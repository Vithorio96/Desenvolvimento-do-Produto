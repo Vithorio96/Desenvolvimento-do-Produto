{
 "cells": [
  {
   "cell_type": "code",
   "execution_count": null,
   "id": "e4c0aeb4",
   "metadata": {},
   "outputs": [],
   "source": [
    "import serial\n",
    "from datetime import datetime\n",
    "\n",
    "ser = serial.Serial('COM3', 9600, timeout=1)\n",
    "\n",
    "with open('dados_serial.txt', 'a') as file:\n",
    "    try:\n",
    "        while True:\n",
    "            data = ser.readline().decode('utf-8').strip()\n",
    "            if data:\n",
    "                now = datetime.now()\n",
    "                timestamp = now.strftime('%H:%M:%S.%f')[:-3]  # Remove os últimos 3 dígitos dos microsegundos\n",
    "                linha = f'{timestamp} > {data}'\n",
    "                print(linha)\n",
    "                file.write(linha + '\\n')\n",
    "    except KeyboardInterrupt:\n",
    "        print(\"\\nInterrompido pelo usuário.\")\n",
    "    finally:\n",
    "        ser.close()"
   ]
  }
 ],
 "metadata": {
  "kernelspec": {
   "display_name": "Python 3",
   "language": "python",
   "name": "python3"
  },
  "language_info": {
   "codemirror_mode": {
    "name": "ipython",
    "version": 3
   },
   "file_extension": ".py",
   "mimetype": "text/x-python",
   "name": "python",
   "nbconvert_exporter": "python",
   "pygments_lexer": "ipython3",
   "version": "3.12.4"
  }
 },
 "nbformat": 4,
 "nbformat_minor": 5
}
